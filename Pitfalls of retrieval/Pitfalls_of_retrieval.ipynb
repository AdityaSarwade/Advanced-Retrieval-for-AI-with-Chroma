{
  "cells": [
    {
      "cell_type": "markdown",
      "metadata": {
        "id": "S-ces9TPETNp"
      },
      "source": [
        "## Lab 2 -Pitfalls of retrieval - when simple vector search fails!"
      ]
    },
    {
      "cell_type": "code",
      "execution_count": null,
      "metadata": {
        "id": "xiZxgl4EFC1n"
      },
      "outputs": [],
      "source": [
        "!pip install -r requirements.txt -q"
      ]
    },
    {
      "cell_type": "code",
      "execution_count": null,
      "metadata": {
        "colab": {
          "base_uri": "https://localhost:8080/"
        },
        "id": "A3ae1zi9ELXz",
        "outputId": "925c879c-8c96-4b44-a730-ceb05f5811a2"
      },
      "outputs": [],
      "source": [
        "from helper_utils import load_chroma, word_wrap\n",
        "from chromadb.utils.embedding_functions import SentenceTransformerEmbeddingFunction\n",
        "\n",
        "embedding_function = SentenceTransformerEmbeddingFunction()\n",
        "\n",
        "chroma_collection = load_chroma(filename='microsoft_annual_report_2022.pdf', collection_name='microsoft_annual_report_2022', embedding_function=embedding_function)\n",
        "chroma_collection.count()"
      ]
    },
    {
      "cell_type": "code",
      "execution_count": null,
      "metadata": {
        "colab": {
          "base_uri": "https://localhost:8080/"
        },
        "id": "WPaxndm4EWw-",
        "outputId": "e573f9b1-133e-4050-dbf7-cc5ae1474f22"
      },
      "outputs": [],
      "source": [
        "import umap\n",
        "import numpy as np\n",
        "from tqdm import tqdm\n",
        "\n",
        "embeddings = chroma_collection.get(include=['embeddings'])['embeddings']\n",
        "umap_transform = umap.UMAP(random_state=0, transform_seed=0).fit(embeddings)"
      ]
    },
    {
      "cell_type": "code",
      "execution_count": null,
      "metadata": {
        "id": "WcLoPVw6EaUm"
      },
      "outputs": [],
      "source": [
        "def project_embeddings(embeddings, umap_transform):\n",
        "    umap_embeddings = np.empty((len(embeddings),2))\n",
        "    for i, embedding in enumerate(tqdm(embeddings)):\n",
        "        umap_embeddings[i] = umap_transform.transform([embedding])\n",
        "    return umap_embeddings"
      ]
    },
    {
      "cell_type": "code",
      "execution_count": null,
      "metadata": {
        "colab": {
          "base_uri": "https://localhost:8080/"
        },
        "id": "H4kkG9fIEcAQ",
        "outputId": "ef8678f9-a998-46eb-aa64-ec87a8590fb3"
      },
      "outputs": [],
      "source": [
        "projected_dataset_embeddings = project_embeddings(embeddings, umap_transform)"
      ]
    },
    {
      "cell_type": "code",
      "execution_count": null,
      "metadata": {
        "colab": {
          "base_uri": "https://localhost:8080/",
          "height": 497
        },
        "id": "R2d7on4yEgTE",
        "outputId": "70bd2936-feb1-4235-a296-c13fb5c992ed"
      },
      "outputs": [],
      "source": [
        "import matplotlib.pyplot as plt\n",
        "\n",
        "plt.figure()\n",
        "plt.scatter(projected_dataset_embeddings[:, 0], projected_dataset_embeddings[:, 1], s=10)\n",
        "plt.gca().set_aspect('equal', 'datalim')\n",
        "plt.title('Projected Embeddings')\n",
        "plt.axis('off')"
      ]
    },
    {
      "cell_type": "markdown",
      "metadata": {
        "id": "G30-w210EjJj"
      },
      "source": [
        "## Relevancy and Distraction"
      ]
    },
    {
      "cell_type": "code",
      "execution_count": null,
      "metadata": {
        "colab": {
          "base_uri": "https://localhost:8080/"
        },
        "id": "LAAmBRh3Egv0",
        "outputId": "953bcd3b-1b6f-4648-f6df-7c48f8545066"
      },
      "outputs": [],
      "source": [
        "query = \"What is the total revenue?\"\n",
        "\n",
        "results = chroma_collection.query(query_texts=query, n_results=5, include=['documents', 'embeddings'])\n",
        "\n",
        "retrieved_documents = results['documents'][0]\n",
        "\n",
        "for document in results['documents'][0]:\n",
        "    print(word_wrap(document))\n",
        "    print('')"
      ]
    },
    {
      "cell_type": "code",
      "execution_count": null,
      "metadata": {
        "colab": {
          "base_uri": "https://localhost:8080/"
        },
        "id": "OfJ2Fc0sEhL7",
        "outputId": "ba448b7a-231a-43e1-b40c-a0f0c9e4d473"
      },
      "outputs": [],
      "source": [
        "query_embedding = embedding_function([query])[0]\n",
        "retrieved_embeddings = results['embeddings'][0]\n",
        "\n",
        "projected_query_embedding = project_embeddings([query_embedding], umap_transform)\n",
        "projected_retrieved_embeddings = project_embeddings(retrieved_embeddings, umap_transform)"
      ]
    },
    {
      "cell_type": "code",
      "execution_count": null,
      "metadata": {
        "colab": {
          "base_uri": "https://localhost:8080/",
          "height": 497
        },
        "id": "_0dcf95CEhTw",
        "outputId": "0077337e-c54e-4ae2-991f-45c555b5af34"
      },
      "outputs": [],
      "source": [
        "# Plot the projected query and retrieved documents in the embedding space\n",
        "plt.figure()\n",
        "plt.scatter(projected_dataset_embeddings[:, 0], projected_dataset_embeddings[:, 1], s=10, color='gray')\n",
        "plt.scatter(projected_query_embedding[:, 0], projected_query_embedding[:, 1], s=150, marker='X', color='r')\n",
        "plt.scatter(projected_retrieved_embeddings[:, 0], projected_retrieved_embeddings[:, 1], s=100, facecolors='none', edgecolors='g')\n",
        "\n",
        "plt.gca().set_aspect('equal', 'datalim')\n",
        "plt.title(f'{query}')\n",
        "plt.axis('off')"
      ]
    },
    {
      "cell_type": "code",
      "execution_count": null,
      "metadata": {
        "colab": {
          "base_uri": "https://localhost:8080/"
        },
        "id": "yhzv2d5iEhZK",
        "outputId": "79d8ab18-5f09-4021-b2df-beeb21c3566d"
      },
      "outputs": [],
      "source": [
        "query = \"What is the strategy around artificial intelligence (AI) ?\"\n",
        "results = chroma_collection.query(query_texts=query, n_results=5, include=['documents', 'embeddings'])\n",
        "\n",
        "retrieved_documents = results['documents'][0]\n",
        "\n",
        "for document in results['documents'][0]:\n",
        "    print(word_wrap(document))\n",
        "    print('')"
      ]
    },
    {
      "cell_type": "code",
      "execution_count": null,
      "metadata": {
        "colab": {
          "base_uri": "https://localhost:8080/"
        },
        "id": "7RC7XKmMEhes",
        "outputId": "e01f8506-dee9-4401-dc13-30f00dbaf69d"
      },
      "outputs": [],
      "source": [
        "query_embedding = embedding_function([query])[0]\n",
        "retrieved_embeddings = results['embeddings'][0]\n",
        "\n",
        "projected_query_embedding = project_embeddings([query_embedding], umap_transform)\n",
        "projected_retrieved_embeddings = project_embeddings(retrieved_embeddings, umap_transform)"
      ]
    },
    {
      "cell_type": "code",
      "execution_count": null,
      "metadata": {
        "colab": {
          "base_uri": "https://localhost:8080/",
          "height": 497
        },
        "id": "tvXrzgXUEuVp",
        "outputId": "6614cd7a-0a44-4eba-ec13-6013f73d6442"
      },
      "outputs": [],
      "source": [
        "# Plot the projected query and retrieved documents in the embedding space\n",
        "plt.figure()\n",
        "plt.scatter(projected_dataset_embeddings[:, 0], projected_dataset_embeddings[:, 1], s=10, color='gray')\n",
        "plt.scatter(projected_query_embedding[:, 0], projected_query_embedding[:, 1], s=150, marker='X', color='r')\n",
        "plt.scatter(projected_retrieved_embeddings[:, 0], projected_retrieved_embeddings[:, 1], s=100, facecolors='none', edgecolors='g')\n",
        "\n",
        "plt.gca().set_aspect('equal', 'datalim')\n",
        "plt.title(f'{query}')\n",
        "plt.axis('off')"
      ]
    },
    {
      "cell_type": "code",
      "execution_count": null,
      "metadata": {
        "colab": {
          "base_uri": "https://localhost:8080/"
        },
        "id": "06G7Op2aEupn",
        "outputId": "4a85d934-e118-4abc-81dc-7a16e856d4aa"
      },
      "outputs": [],
      "source": [
        "query = \"What has been the investment in research and development?\"\n",
        "results = chroma_collection.query(query_texts=query, n_results=5, include=['documents', 'embeddings'])\n",
        "\n",
        "retrieved_documents = results['documents'][0]\n",
        "\n",
        "for document in results['documents'][0]:\n",
        "    print(word_wrap(document))\n",
        "    print('')"
      ]
    },
    {
      "cell_type": "code",
      "execution_count": null,
      "metadata": {
        "colab": {
          "base_uri": "https://localhost:8080/"
        },
        "id": "gBIZQg6bEuu0",
        "outputId": "f8eed91d-2e0c-485d-bbdc-f5de0668e109"
      },
      "outputs": [],
      "source": [
        "query_embedding = embedding_function([query])[0]\n",
        "retrieved_embeddings = results['embeddings'][0]\n",
        "\n",
        "projected_query_embedding = project_embeddings([query_embedding], umap_transform)\n",
        "projected_retrieved_embeddings = project_embeddings(retrieved_embeddings, umap_transform)"
      ]
    },
    {
      "cell_type": "code",
      "execution_count": null,
      "metadata": {
        "colab": {
          "base_uri": "https://localhost:8080/",
          "height": 497
        },
        "id": "5Mn7gFkaEuzt",
        "outputId": "b1c2ee26-bb0b-4280-ed7c-b3671c4c2330"
      },
      "outputs": [],
      "source": [
        "# Plot the projected query and retrieved documents in the embedding space\n",
        "plt.figure()\n",
        "plt.scatter(projected_dataset_embeddings[:, 0], projected_dataset_embeddings[:, 1], s=10, color='gray')\n",
        "plt.scatter(projected_query_embedding[:, 0], projected_query_embedding[:, 1], s=150, marker='X', color='r')\n",
        "plt.scatter(projected_retrieved_embeddings[:, 0], projected_retrieved_embeddings[:, 1], s=100, facecolors='none', edgecolors='g')\n",
        "\n",
        "plt.gca().set_aspect('equal', 'datalim')\n",
        "plt.title(f'{query}')\n",
        "plt.axis('off')"
      ]
    },
    {
      "cell_type": "code",
      "execution_count": null,
      "metadata": {
        "colab": {
          "base_uri": "https://localhost:8080/"
        },
        "id": "FV1tTs5HE8wG",
        "outputId": "db0f07da-4d41-430e-b040-3031ba8f331e"
      },
      "outputs": [],
      "source": [
        "query = \"What has Michael Jordan done for us lately?\"\n",
        "results = chroma_collection.query(query_texts=query, n_results=5, include=['documents', 'embeddings'])\n",
        "\n",
        "retrieved_documents = results['documents'][0]\n",
        "\n",
        "for document in results['documents'][0]:\n",
        "    print(word_wrap(document))\n",
        "    print('')"
      ]
    },
    {
      "cell_type": "code",
      "execution_count": null,
      "metadata": {
        "colab": {
          "base_uri": "https://localhost:8080/"
        },
        "id": "YLevxQScE-OS",
        "outputId": "1f190490-6497-43f2-a5d7-776e1edf4d64"
      },
      "outputs": [],
      "source": [
        "query_embedding = embedding_function([query])[0]\n",
        "retrieved_embeddings = results['embeddings'][0]\n",
        "\n",
        "projected_query_embedding = project_embeddings([query_embedding], umap_transform)\n",
        "projected_retrieved_embeddings = project_embeddings(retrieved_embeddings, umap_transform)"
      ]
    },
    {
      "cell_type": "code",
      "execution_count": null,
      "metadata": {
        "colab": {
          "base_uri": "https://localhost:8080/",
          "height": 497
        },
        "id": "RYY1zOvnE-qW",
        "outputId": "dd9c8f28-40bf-4d92-ad56-b5aa14fe3cad"
      },
      "outputs": [],
      "source": [
        "# Plot the projected query and retrieved documents in the embedding space\n",
        "plt.figure()\n",
        "plt.scatter(projected_dataset_embeddings[:, 0], projected_dataset_embeddings[:, 1], s=10, color='gray')\n",
        "plt.scatter(projected_query_embedding[:, 0], projected_query_embedding[:, 1], s=150, marker='X', color='r')\n",
        "plt.scatter(projected_retrieved_embeddings[:, 0], projected_retrieved_embeddings[:, 1], s=100, facecolors='none', edgecolors='g')\n",
        "\n",
        "plt.gca().set_aspect('equal', 'datalim')\n",
        "plt.title(f'{query}')\n",
        "plt.axis('off')"
      ]
    }
  ],
  "metadata": {
    "colab": {
      "provenance": []
    },
    "kernelspec": {
      "display_name": "Python 3",
      "name": "python3"
    },
    "language_info": {
      "name": "python"
    }
  },
  "nbformat": 4,
  "nbformat_minor": 0
}
